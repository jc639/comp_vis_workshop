{
 "cells": [
  {
   "cell_type": "markdown",
   "id": "0b6651f4-2b70-4f7d-9a31-e77cab37cbfc",
   "metadata": {},
   "source": [
    "# Exercise Solutions\n",
    "\n",
    "Here are some suggested solutions to the exercises. These are not the only way to implement them, so if you have done something slightly different but it still achieves the same goal then that's fine!\n",
    "\n",
    "***\n",
    "1. Can you change the CustomDataset class so that it loads the image and label from pandas dataframe by completing the following code:\n",
    "\n",
    "```python\n",
    "import pandas as pd\n",
    "\n",
    "data_df = pd.DataFrame(items, columns=['path', 'label'])\n",
    "class_to_idx = # how can you use the dataframe to get a string to class index integer label\n",
    "\n",
    "class CustomDatasetDF(Dataset):\n",
    "    def __init__(self, df, class_to_idx, transforms = None):\n",
    "        self.df = df # should be the data_df defined above\n",
    "        self.transforms = transforms\n",
    "        self.class_to_idx = class_to_idx\n",
    "\n",
    "    def __getitem__(self, idx):\n",
    "        ... # complete this function - idx would be an integer indexing into the dataset\n",
    "            # needs to return the image and label\n",
    "\n",
    "    def __len__(self):\n",
    "        ... # needs to return the length of the dataset\n",
    "```"
   ]
  },
  {
   "cell_type": "code",
   "execution_count": null,
   "id": "784620d8-0254-46ff-993d-126c2d03f891",
   "metadata": {},
   "outputs": [],
   "source": [
    "# 1. SOLUTION - copy and paste into bottom of notebook Workshop_4.ipynb\n",
    "\n",
    "import pandas as pd\n",
    "from PIL import Image\n",
    "\n",
    "data_df = pd.DataFrame(items, columns=['path', 'label'])\n",
    "class_to_idx = {animal: i for i, animal in enumerate(data_df.label.unique())}\n",
    "\n",
    "class CustomDatasetDF(Dataset):\n",
    "    def __init__(self, df, class_to_idx, transforms = None):\n",
    "        self.df = df\n",
    "        self.transforms = transforms\n",
    "        self.class_to_idx = class_to_idx\n",
    "\n",
    "    def __getitem__(self, idx):\n",
    "        img_path = self.df['path'].iloc[idx]\n",
    "        label = self.df['label'].iloc[idx]\n",
    "        img = Image.open(img_path)\n",
    "\n",
    "        if self.transforms:\n",
    "            img = self.transforms(img)\n",
    "        return img, self.class_to_idx[label]\n",
    "\n",
    "ds = CustomDatasetDF(data_df, class_to_idx)\n",
    "ds[0]"
   ]
  },
  {
   "cell_type": "markdown",
   "id": "a821e50a-5f75-4119-8fbc-284f30331a4f",
   "metadata": {},
   "source": [
    "***\n",
    "2. Can you create a custom transform that rotates an image by 45 degrees randomly to the left or right? Remember we generally create a class with `__call__` method.\n",
    "\n",
    "```python\n",
    "class Random45Rotate:\n",
    "    def __call__(self, img):\n",
    "        # define the method here\n",
    "        # ...\n",
    "\n",
    "\n",
    "# test it out with an image\n",
    "rotate_transform = Random45Rotate()\n",
    "rotated_img = rotate_transform(img)\n",
    "```"
   ]
  },
  {
   "cell_type": "code",
   "execution_count": null,
   "id": "32980fb9-276b-46a2-960c-38fd8be34376",
   "metadata": {},
   "outputs": [],
   "source": [
    "# 2. SOLUTION - copy and paste into bottom of notebook Workshop_4.ipynb\n",
    "# there are multiple ways do this with different libraries\n",
    "# such as (cv2 / skimage / PIL)\n",
    "# if we assume its a PIL.Image we can just use the .rotate method\n",
    "import numpy as np\n",
    "\n",
    "class Random45Rotate:\n",
    "    def __call__(self, img):\n",
    "        rotation = 45\n",
    "        if np.random.rand() > 0.5:\n",
    "            rotation = -rotation\n",
    "        return img.rotate(rotation)\n",
    "\n",
    "rotate_transform = Random45Rotate()\n",
    "rotated_img = rotate_transform(img)\n",
    "rotated_img"
   ]
  },
  {
   "cell_type": "markdown",
   "id": "bc0b8078-3f4a-4625-89dd-c0cce631afa2",
   "metadata": {},
   "source": [
    "***\n",
    "3. If we look at the batch returned by the dataloader all the labels are the same in this batch. After examining the docstring for [`DataLoader`](https://pytorch.org/docs/stable/data.html#torch.utils.data.DataLoader) can we set it so that it returns a batch that isn't just the order of the items."
   ]
  },
  {
   "cell_type": "code",
   "execution_count": null,
   "id": "bcc57fd7-a291-4a7a-a9f8-47a8951bcaaa",
   "metadata": {},
   "outputs": [],
   "source": [
    "# 3. Solution - copy and paste into bottom of notebook Workshop_4.ipynb\n",
    "# for this you just need to add shuffle=True\n",
    "dl = DataLoader(dataset, batch_size=20, shuffle=True)\n",
    "\n",
    "for x,y in dl:\n",
    "    print(x.shape)\n",
    "    print(y)\n",
    "    break"
   ]
  }
 ],
 "metadata": {
  "kernelspec": {
   "display_name": "Python 3 (ipykernel)",
   "language": "python",
   "name": "python3"
  },
  "language_info": {
   "codemirror_mode": {
    "name": "ipython",
    "version": 3
   },
   "file_extension": ".py",
   "mimetype": "text/x-python",
   "name": "python",
   "nbconvert_exporter": "python",
   "pygments_lexer": "ipython3",
   "version": "3.9.2"
  }
 },
 "nbformat": 4,
 "nbformat_minor": 5
}
